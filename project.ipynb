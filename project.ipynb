{
 "cells": [
  {
   "cell_type": "code",
   "execution_count": 1,
   "id": "7c49eb5e-9476-4129-a14c-f52fe9d85149",
   "metadata": {},
   "outputs": [],
   "source": [
    "import numpy as np"
   ]
  },
  {
   "cell_type": "code",
   "execution_count": 2,
   "id": "6501d584-d127-44e4-87e4-713192a72fdc",
   "metadata": {},
   "outputs": [],
   "source": [
    "import pandas as pd"
   ]
  },
  {
   "cell_type": "code",
   "execution_count": 9,
   "id": "1d174a67-c166-49c7-8848-d625845ce1e0",
   "metadata": {},
   "outputs": [],
   "source": [
    "np.random.seed(42)"
   ]
  },
  {
   "cell_type": "code",
   "execution_count": 16,
   "id": "12717935-4991-4e1f-aed6-562bb49ac05f",
   "metadata": {},
   "outputs": [],
   "source": [
    "employee_ids=[f\"EMP_{i:03d}\" for i in range(1,31)]\n",
    "dates=pd.date_range(start=\"2025-07-01\",periods=30,freq=\"D\")"
   ]
  },
  {
   "cell_type": "code",
   "execution_count": 20,
   "id": "0b46f740-65a3-428a-a47a-652f752a6974",
   "metadata": {},
   "outputs": [],
   "source": [
    "data={\n",
    "    \"Date\":np.tile(dates,len(employee_ids)),\n",
    "    \"Employee_ID\":np.repeat(employee_ids,len(dates)),\n",
    "    \"Working_Hours\":np.random.normal(loc=20,scale=5,size=len(dates)*len(employee_ids))\n",
    "}"
   ]
  },
  {
   "cell_type": "code",
   "execution_count": 22,
   "id": "890cc33e-c286-4d39-b536-f2789b97365d",
   "metadata": {},
   "outputs": [],
   "source": [
    "df=pd.DataFrame(data)"
   ]
  },
  {
   "cell_type": "code",
   "execution_count": 23,
   "id": "e2835b55-7a36-47cf-a047-6d545efa227b",
   "metadata": {},
   "outputs": [],
   "source": [
    "df.to_csv(\"employee_working_hours.csv\", index=False)"
   ]
  },
  {
   "cell_type": "code",
   "execution_count": 24,
   "id": "12d6cedf-48bd-495d-b72d-4bcc4ca5039e",
   "metadata": {},
   "outputs": [],
   "source": [
    "df_csv=pd.read_csv(\"employee_working_hours.csv\")"
   ]
  },
  {
   "cell_type": "code",
   "execution_count": 46,
   "id": "787c4a29-c1af-47d1-a897-7665189d388f",
   "metadata": {},
   "outputs": [
    {
     "name": "stdout",
     "output_type": "stream",
     "text": [
      "         Date Employee_ID  Working_Hours\n",
      "0  2025-07-01     EMP_001      22.483571\n",
      "1  2025-07-02     EMP_001      19.308678\n",
      "2  2025-07-03     EMP_001      23.238443\n",
      "3  2025-07-04     EMP_001      27.615149\n",
      "4  2025-07-05     EMP_001      18.829233\n",
      "       Working_Hours\n",
      "count     900.000000\n",
      "mean       20.091926\n",
      "std         4.904530\n",
      "min         3.793663\n",
      "25%        16.745590\n",
      "50%        20.092131\n",
      "75%        23.246901\n",
      "max        39.263657\n",
      "30\n"
     ]
    }
   ],
   "source": [
    "print(df_csv.head())\n",
    "print(df_csv.describe())\n",
    "print(df_csv[\"Employee_ID\"].nunique())"
   ]
  },
  {
   "cell_type": "code",
   "execution_count": 41,
   "id": "7007610a-ba05-4778-a899-7f95f3086790",
   "metadata": {},
   "outputs": [],
   "source": [
    "total_hours= df_csv.groupby(\"Employee_ID\")[\"Working_Hours\"].sum().sort_values(ascending=False)"
   ]
  },
  {
   "cell_type": "code",
   "execution_count": 31,
   "id": "de0b16d7-04c2-4aae-8a5d-2b844caf309c",
   "metadata": {},
   "outputs": [],
   "source": [
    "avg_daily=df_csv.groupby(\"Employee_ID\")[\"Working_Hours\"].mean()"
   ]
  },
  {
   "cell_type": "code",
   "execution_count": 52,
   "id": "a659ca76-76d6-4112-adc1-edd80aeea3e4",
   "metadata": {},
   "outputs": [
    {
     "name": "stdout",
     "output_type": "stream",
     "text": [
      "         Date Employee_ID  Working_Hours  Low_Hour_Flag  High_Hour_Flag\n",
      "0  2025-07-01     EMP_001      22.483571          False            True\n",
      "1  2025-07-02     EMP_001      19.308678          False            True\n",
      "2  2025-07-03     EMP_001      23.238443          False            True\n",
      "3  2025-07-04     EMP_001      27.615149          False            True\n",
      "4  2025-07-05     EMP_001      18.829233          False            True\n"
     ]
    }
   ],
   "source": [
    "threshold_low=5\n",
    "threshold_high=9\n",
    "df_csv[\"Low_Hour_Flag\"]=df_csv[\"Working_Hours\"]<threshold_low\n",
    "df_csv[\"High_Hour_Flag\"]=df_csv[\"Working_Hours\"]>threshold_high\n",
    "print(df_csv[df_csv[\"Low_Hour_Flag\"] | df_csv[\"High_Hour_Flag\"]].head())"
   ]
  },
  {
   "cell_type": "code",
   "execution_count": 53,
   "id": "bc251621-8009-413c-bf4e-a4f9a726c2bf",
   "metadata": {},
   "outputs": [],
   "source": [
    "import matplotlib.pyplot as plt\n",
    "import seaborn as sns"
   ]
  },
  {
   "cell_type": "code",
   "execution_count": 56,
   "id": "d04269d2-6dcd-4cb1-9f5c-d5619d853e01",
   "metadata": {},
   "outputs": [
    {
     "data": {
      "image/png": "[encoded data removed]",
      "text/plain": [
       "<Figure size 1200x600 with 1 Axes>"
      ]
     },
     "metadata": {},
     "output_type": "display_data"
    }
   ],
   "source": [
    "top10=total_hours.head(10)\n",
    "plt.figure(figsize=(12,6))\n",
    "sns.barplot(x=top10.index,y=top10.values)\n",
    "plt.xticks(rotation=45)\n",
    "plt.title(\"Top 10 Employee by7 Total Working Hours\")\n",
    "plt.xlabel(\"Employee Ids\")\n",
    "plt.ylabel(\"Total Working Hours\")\n",
    "plt.tight_layout()\n",
    "plt.show()"
   ]
  },
  {
   "cell_type": "code",
   "execution_count": null,
   "id": "12a4126e-9a5a-4eb1-bcff-26210c8803fe",
   "metadata": {},
   "outputs": [],
   "source": []
  }
 ],
 "metadata": {
  "kernelspec": {
   "display_name": "Python 3 (ipykernel)",
   "language": "python",
   "name": "python3"
  },
  "language_info": {
   "codemirror_mode": {
    "name": "ipython",
    "version": 3
   },
   "file_extension": ".py",
   "mimetype": "text/x-python",
   "name": "python",
   "nbconvert_exporter": "python",
   "pygments_lexer": "ipython3",
   "version": "3.13.2"
  }
 },
 "nbformat": 4,
 "nbformat_minor": 5
}
